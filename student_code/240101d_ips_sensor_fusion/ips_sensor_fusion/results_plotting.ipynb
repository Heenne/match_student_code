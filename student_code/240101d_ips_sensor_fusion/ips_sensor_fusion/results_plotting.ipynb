{
 "cells": [
  {
   "attachments": {},
   "cell_type": "markdown",
   "metadata": {},
   "source": [
    "# Plotting Code\n",
    "The data is read from the data/results/results_csv folder. The data was exportet to csv files from the bag files by using the csv export function in plotjuggler. "
   ]
  },
  {
   "cell_type": "code",
   "execution_count": null,
   "metadata": {
    "vscode": {
     "languageId": "python"
    }
   },
   "outputs": [],
   "source": [
    "#define matplotlib backend\n",
    "%matplotlib\n",
    "\n",
    "#imports\n",
    "import matplotlib.pyplot as plt\n",
    "from matplotlib.pyplot import cm\n",
    "import numpy as np\n",
    "import pandas as pd\n",
    "import os\n",
    "from scipy.spatial.transform import Rotation as R"
   ]
  },
  {
   "cell_type": "code",
   "execution_count": null,
   "metadata": {
    "vscode": {
     "languageId": "python"
    }
   },
   "outputs": [],
   "source": [
    "#function for removing zeros from list\n",
    "def remove_zeroes(data):\n",
    "    data = data[np.logical_not(np.isnan(data))]\n",
    "    return data"
   ]
  },
  {
   "attachments": {},
   "cell_type": "markdown",
   "metadata": {},
   "source": [
    "## plot xy results of all localization methods at once for kreuzmuster2"
   ]
  },
  {
   "cell_type": "code",
   "execution_count": null,
   "metadata": {
    "vscode": {
     "languageId": "python"
    }
   },
   "outputs": [],
   "source": [
    "filename = 'data/results/results_csv/kreuzmuster2_high_proc_cov.csv'\n",
    "delimiter = ','\n",
    "\n",
    "#read csv file\n",
    "csv_dataframe = pd.read_csv(filename, delimiter=delimiter)\n",
    "header = list(csv_dataframe.columns.values)\n",
    "\n",
    "#define columns to be extracted from csv dataframe, order: amcl, marv, ekf, faro\n",
    "selected_columns = [[\"/amcl_pose/pose/pose/position/x\"       ,\"/amcl_pose/pose/pose/position/y\"         ],\n",
    "                    [\"/transformed_pos/pose/pose/position/x\" ,\"/transformed_pos/pose/pose/position/y\"   ],\n",
    "                    [\"/ekf_pose/pose/pose/position/x\"        ,\"/ekf_pose/pose/pose/position/y\"          ],\n",
    "                    [\"/faro_pos/pose/position/x\"             ,\"/faro_pos/pose/position/y\"               ]]\n",
    "\n",
    "fig,ax = plt.subplots()\n",
    "selector = 0\n",
    "color = iter(['#ff0000','#0000ff','#00ff00','#000000']) #define colors\n",
    "\n",
    "for selector in range(4):\n",
    "    c = next(color)\n",
    "\n",
    "    xvals = csv_dataframe[selected_columns[selector][0]]\n",
    "    yvals = csv_dataframe[selected_columns[selector][1]]\n",
    "    \n",
    "    xvals = remove_zeroes(xvals)\n",
    "    yvals = remove_zeroes(yvals)\n",
    "    \n",
    "    ax.plot(xvals,yvals,'.-',markersize=1,c=c)\n",
    "    ax.set(xlabel='x (m)', ylabel='y (m)', title='kreuzmuster 2')\n",
    "    ax.legend(['AMCL','Marvelmind','EKF', 'faro'])\n",
    "    ax.grid(True)\n",
    "\n",
    "plt.show()"
   ]
  },
  {
   "attachments": {},
   "cell_type": "markdown",
   "metadata": {},
   "source": [
    "## plot x and y results of all localization methods seperately for kreuzmuster2"
   ]
  },
  {
   "cell_type": "code",
   "execution_count": null,
   "metadata": {
    "vscode": {
     "languageId": "python"
    }
   },
   "outputs": [],
   "source": [
    "filename = 'data/results/results_csv/kreuzmuster2_high_proc_cov.csv'\n",
    "delimiter = ','\n",
    "\n",
    "csv_dataframe = pd.read_csv(filename, delimiter=delimiter)\n",
    "header = list(csv_dataframe.columns.values)\n",
    "\n",
    "#define columns to be extracted from csv dataframe, order: amcl, marv, ekf, faro\n",
    "selected_columns = [[\"/amcl_pose/pose/pose/position/x\"       ,\"/amcl_pose/pose/pose/position/y\"         ],\n",
    "                    [\"/transformed_pos/pose/pose/position/x\" ,\"/transformed_pos/pose/pose/position/y\"   ],\n",
    "                    [\"/ekf_pose/pose/pose/position/x\"        ,\"/ekf_pose/pose/pose/position/y\"          ],\n",
    "                    [\"/faro_pos/pose/position/x\"             ,\"/faro_pos/pose/position/y\"               ]]\n",
    "\n",
    "timestamp = csv_dataframe[\"__time\"]\n",
    "timestamp = timestamp - timestamp[0] #set start time to 0\n",
    "\n",
    "fig,ax = plt.subplots()\n",
    "selector = 0\n",
    "color = iter(['#ff0000','#0000ff','#00ff00','#000000']) #define colors\n",
    "\n",
    "# x values\n",
    "for selector in  range(4):\n",
    "    c = next(color)\n",
    "\n",
    "    xvals = csv_dataframe[selected_columns[selector][0]].interpolate()\n",
    "    yvals = csv_dataframe[selected_columns[selector][1]].interpolate()\n",
    "    \n",
    "    ax.plot(timestamp,xvals,'.-',markersize=0.5,c=c)\n",
    "    ax.set(xlabel='t (s)', ylabel='y (m)', title='kreuzmuster_2 x')\n",
    "    ax.legend(['AMCL','Marvelmind','EKF', 'faro'])\n",
    "    ax.grid(True)\n",
    "plt.show()\n",
    "\n",
    "fig,ax = plt.subplots()\n",
    "selector = 0\n",
    "color = iter(['#ff0000','#0000ff','#00ff00','#000000']) #define colors\n",
    "\n",
    "#y values\n",
    "for selector in  range(4):\n",
    "    c = next(color)\n",
    "\n",
    "    xvals = csv_dataframe[selected_columns[selector][0]].interpolate()\n",
    "    yvals = csv_dataframe[selected_columns[selector][1]].interpolate()\n",
    "\n",
    "    ax.plot(timestamp,yvals,'.-',markersize=0.5,c=c)\n",
    "    ax.set(xlabel='t (s)', ylabel='y (m)', title='kreuzmuster_2 y')\n",
    "    ax.legend(['AMCL','Marvelmind','EKF', 'faro'])\n",
    "    ax.grid(True)\n",
    "plt.show()"
   ]
  },
  {
   "attachments": {},
   "cell_type": "markdown",
   "metadata": {},
   "source": [
    "## display angle data for drift visualization using double90 bag"
   ]
  },
  {
   "cell_type": "code",
   "execution_count": null,
   "metadata": {
    "vscode": {
     "languageId": "python"
    }
   },
   "outputs": [],
   "source": [
    "filename = 'data/results/results_csv/double90_4_odom_drift.csv'\n",
    "delimiter = ','\n",
    "\n",
    "csv_dataframe = pd.read_csv(filename, delimiter=delimiter)\n",
    "header = list(csv_dataframe.columns.values)\n",
    "\n",
    "#define columns to be extracted from csv dataframe\n",
    "selected_columns = [[\"/amcl_pose/pose/pose/orientation/yaw_deg\"         ,\"/amcl_pose/pose/pose/orientation/x\"       ,\"/amcl_pose/pose/pose/orientation/y\"       ,\"/amcl_pose/pose/pose/orientation/z\"       ,\"/amcl_pose/pose/pose/orientation/w\"      ],\n",
    "                    [\"/transformed_pos/pose/pose/orientation/yaw_deg\"   ,\"/transformed_pos/pose/pose/orientation/x\" ,\"/transformed_pos/pose/pose/orientation/y\" ,\"/transformed_pos/pose/pose/orientation/z\" ,\"/transformed_pos/pose/pose/orientation/w\"],\n",
    "                    [\"/odom/pose/pose/orientation/yaw_deg\"              ,\"/odom/pose/pose/orientation/x\"            ,\"/odom/pose/pose/orientation/y\"            ,\"/odom/pose/pose/orientation/z\"            ,\"/odom/pose/pose/orientation/w\"           ]]\n",
    "\n",
    "fig,ax = plt.subplots()\n",
    "selector = 0\n",
    "color = iter(['#ff0000','#0000ff','#00ff00','#000000']) #define colors\n",
    "\n",
    "offsets = [178,88,102] #define absolute offsets (measurend manually in plotjuggler)\n",
    "\n",
    "for selector in  range(3):\n",
    "    c = next(color)\n",
    "    xaxis = csv_dataframe[\"__time\"]\n",
    "    xaxis = xaxis - xaxis[0]\n",
    "\n",
    "    #seperate quaternion data\n",
    "    yaw =    csv_dataframe[selected_columns[selector][0]]\n",
    "    quat_x = csv_dataframe[selected_columns[selector][1]]\n",
    "    quat_y = csv_dataframe[selected_columns[selector][2]]\n",
    "    quat_z = csv_dataframe[selected_columns[selector][3]]\n",
    "    quat_w = csv_dataframe[selected_columns[selector][4]]\n",
    "    \n",
    "    #convert quaternion to euler\n",
    "    new_yaw = []\n",
    "    for i in range(len(yaw)):\n",
    "        try:\n",
    "            r = R.from_quat([quat_x[i],quat_y[i],quat_z[i],quat_w[i]])\n",
    "            new_yaw.append(r.as_euler('xyz', degrees=True)[2])\n",
    "        except:\n",
    "            new_yaw.append(np.nan)\n",
    "    print(sum(new_yaw))\n",
    "\n",
    "    #add offsets\n",
    "    for i in range(len(new_yaw)):\n",
    "        new_yaw[i] = new_yaw[i] + offsets[selector]\n",
    "\n",
    "    #plot\n",
    "    ax.plot(xaxis,new_yaw,'.-',markersize=1,c=c)\n",
    "    ax.set(xlabel='t(s)', ylabel='yaw (°)', title='rotations yaw')\n",
    "    ax.legend(['AMCL','Marvelmind','Odometrie'])\n",
    "    ax.grid(True)\n",
    "plt.show()               "
   ]
  },
  {
   "attachments": {},
   "cell_type": "markdown",
   "metadata": {},
   "source": [
    "## display angle data for ekf performance visualization using double90 bag"
   ]
  },
  {
   "cell_type": "code",
   "execution_count": null,
   "metadata": {
    "vscode": {
     "languageId": "python"
    }
   },
   "outputs": [],
   "source": [
    "filename = 'data/results/results_csv/rotations4.csv'\n",
    "delimiter = ','\n",
    "\n",
    "csv_dataframe = pd.read_csv(filename, delimiter=delimiter)\n",
    "header = list(csv_dataframe.columns.values)\n",
    "\n",
    "#define columns to be extracted from csv dataframe\n",
    "selected_columns = [[\"/amcl_pose/pose/pose/orientation/yaw_deg\",\"/amcl_pose/pose/pose/orientation/x\",\"/amcl_pose/pose/pose/orientation/y\",\"/amcl_pose/pose/pose/orientation/z\",\"/amcl_pose/pose/pose/orientation/w\"],\n",
    "                    [\"/transformed_pos/pose/pose/orientation/yaw_deg\" ,\"/transformed_pos/pose/pose/orientation/x\",\"/transformed_pos/pose/pose/orientation/y\",\"/transformed_pos/pose/pose/orientation/z\",\"/transformed_pos/pose/pose/orientation/w\"],\n",
    "                    [\"/odometry/filtered/pose/pose/orientation/yaw_deg\" ,\"/odometry/filtered/pose/pose/orientation/x\",\"/odometry/filtered/pose/pose/orientation/y\",\"/odometry/filtered/pose/pose/orientation/z\",\"/odometry/filtered/pose/pose/orientation/w\"]]\n",
    "fig,ax = plt.subplots()\n",
    "\n",
    "selector = 0\n",
    "color = iter(['#ff0000','#0000ff','#00ff00','#000000'])\n",
    "\n",
    "for selector in  range(3):\n",
    "    c = next(color)\n",
    "    xaxis = csv_dataframe[\"__time\"]\n",
    "    xaxis = xaxis - xaxis[0]\n",
    "\n",
    "    #seperate quaternion data\n",
    "    yaw =    csv_dataframe[selected_columns[selector][0]]\n",
    "    quat_x = csv_dataframe[selected_columns[selector][1]]\n",
    "    quat_y = csv_dataframe[selected_columns[selector][2]]\n",
    "    quat_z = csv_dataframe[selected_columns[selector][3]]\n",
    "    quat_w = csv_dataframe[selected_columns[selector][4]]\n",
    "    \n",
    "    #convert quaternion to euler\n",
    "    new_yaw = []\n",
    "    for i in range(len(yaw)):\n",
    "        try:\n",
    "            r = R.from_quat([quat_x[i],quat_y[i],quat_z[i],quat_w[i]])\n",
    "            new_yaw.append(r.as_euler('xyz', degrees=True)[2])\n",
    "        except:\n",
    "            new_yaw.append(np.nan)\n",
    "\n",
    "    #plot\n",
    "    print(sum(new_yaw))\n",
    "    ax.plot(xaxis,new_yaw,'.-',markersize=1,c=c)\n",
    "    ax.set(xlabel='t(s)', ylabel='yaw (°)', title='rotations yaw')\n",
    "    ax.legend(['AMCL','Marvelmind','EKF', 'odometry_filtered'])\n",
    "    ax.grid(True)\n",
    "\n",
    "plt.show()  "
   ]
  }
 ],
 "metadata": {
  "kernelspec": {
   "display_name": "Python 3 (ipykernel)",
   "language": "python",
   "name": "python3"
  },
  "orig_nbformat": 4,
  "vscode": {
   "interpreter": {
    "hash": "916dbcbb3f70747c44a77c7bcd40155683ae19c65e1c03b4aa3499c5328201f1"
   }
  }
 },
 "nbformat": 4,
 "nbformat_minor": 2
}
